{
 "cells": [
  {
   "cell_type": "markdown",
   "metadata": {},
   "source": [
    "# A* Algorithm Implementation in Python\n",
    "\n",
    "In this notebook we are goign to solve a motion planning problem using A* algorithm.\n",
    "\n",
    "Most codes from http://asl.stanford.edu/aa274/"
   ]
  },
  {
   "cell_type": "markdown",
   "metadata": {},
   "source": [
    "## A* Algorithm"
   ]
  },
  {
   "cell_type": "code",
   "execution_count": 1,
   "metadata": {
    "pycharm": {
     "is_executing": false
    }
   },
   "outputs": [],
   "source": [
    "import numpy as np\n",
    "import matplotlib.pyplot as plt\n",
    "import matplotlib.patches as patches\n",
    "import matplotlib.cbook\n",
    "import warnings\n",
    "\n",
    "# Represents a motion planning problem to be solved using A*\n",
    "class AStar(object):\n",
    "\n",
    "    def __init__(self, statespace_lo, statespace_hi, x_init, x_goal, occupancy, resolution=1):\n",
    "        self.statespace_lo = statespace_lo         # state space lower bound (e.g., (-5, -5))\n",
    "        self.statespace_hi = statespace_hi         # state space upper bound (e.g., (5, 5))\n",
    "        self.occupancy = occupancy                 # occupancy grid\n",
    "        self.resolution = resolution               # resolution of the discretization of state space (cell/m)\n",
    "        self.x_init = self.snap_to_grid(x_init)    # initial state\n",
    "        self.x_goal = self.snap_to_grid(x_goal)    # goal state\n",
    "\n",
    "        self.closed_set = []    # the set containing the states that have been visited\n",
    "        self.open_set = []      # the set containing the states that are condidate for future expension\n",
    "\n",
    "        self.f_score = {}       # dictionary of the f score (estimated cost from start to goal passing through state)\n",
    "        self.g_score = {}       # dictionary of the g score (cost-to-go from start to state)\n",
    "        self.came_from = {}     # dictionary keeping track of each state's parent to reconstruct the path\n",
    "\n",
    "        self.open_set.append(x_init)\n",
    "        self.g_score[x_init] = 0\n",
    "        self.f_score[x_init] = self.distance(x_init,x_goal)\n",
    "\n",
    "        self.path = None        # the final path as a list of states\n",
    "\n",
    "    # Checks if a give state is free, meaning it is inside the bounds of the map and\n",
    "    # is not inside any obstacle\n",
    "    # INPUT: (x)\n",
    "    #          x - tuple state\n",
    "    # OUTPUT: Boolean True/False\n",
    "    def is_free(self, x):\n",
    "        ########## Code starts here ##########\n",
    "        pass\n",
    "        ########## Code ends here ##########\n",
    "\n",
    "    # computes the euclidean distance between two states\n",
    "    # INPUT: (x1, x2)\n",
    "    #          x1 - first state tuple\n",
    "    #          x2 - second state tuple\n",
    "    # OUTPUT: Float euclidean distance\n",
    "    def distance(self, x1, x2):\n",
    "        return np.linalg.norm(np.array(x1)-np.array(x2))\n",
    "\n",
    "    # returns the closest point on a discrete state grid\n",
    "    # INPUT: (x)\n",
    "    #          x - tuple state\n",
    "    # OUTPUT: A tuple that represents the closest point to x on the discrete state grid\n",
    "    def snap_to_grid(self, x):\n",
    "        return (self.resolution*round(x[0]/self.resolution), self.resolution*round(x[1]/self.resolution))\n",
    "\n",
    "    # gets the FREE neighbor states of a given state. Assumes a motion model\n",
    "    # where we can move up, down, left, right, or along the diagonals by an\n",
    "    # amount equal to self.resolution.\n",
    "    # Use self.is_free in order to check if any given state is indeed free.\n",
    "    # Use self.snap_to_grid (see above) to ensure that the neighbors you compute\n",
    "    # are actually on the discrete grid, i.e., if you were to compute neighbors by\n",
    "    # simply adding/subtracting self.resolution from x, numerical error could\n",
    "    # creep in over the course of many additions and cause grid point equality\n",
    "    # checks to fail. To remedy this, you should make sure that every neighbor is\n",
    "    # snapped to the grid as it is computed.\n",
    "    # INPUT: (x)\n",
    "    #           x - tuple state\n",
    "    # OUTPUT: List of neighbors that are free, as a list of TUPLES\n",
    "    def get_neighbors(self, x):\n",
    "        neighs = []\n",
    "        ########## Code starts here ##########\n",
    "        pass\n",
    "        ########## Code ends here ##########\n",
    "        return neighs\n",
    "\n",
    "    # Gets the state in open_set that has the lowest f_score\n",
    "    # INPUT: None\n",
    "    # OUTPUT: A tuple, the state found in open_set that has the lowest f_score\n",
    "    def find_best_f_score(self):\n",
    "        return min(self.open_set, key=lambda x: self.f_score[x])\n",
    "\n",
    "    # Use the came_from map to reconstruct a path from the initial location\n",
    "    # to the goal location\n",
    "    # INPUT: None\n",
    "    # OUTPUT: A list of tuples, which is a list of the states that go from start to goal\n",
    "    def reconstruct_path(self):\n",
    "        path = [self.x_goal]\n",
    "        current = path[-1]\n",
    "        while current != self.x_init:\n",
    "            path.append(self.came_from[current])\n",
    "            current = path[-1]\n",
    "        return list(reversed(path))\n",
    "\n",
    "    # Plots the path found in self.path and the obstacles\n",
    "    # INPUT: None\n",
    "    # OUTPUT: None\n",
    "    def plot_path(self):\n",
    "        if not self.path:\n",
    "            return\n",
    "        \n",
    "        warnings.filterwarnings(\"ignore\",category=matplotlib.cbook.mplDeprecation)\n",
    "\n",
    "        fig = plt.figure()\n",
    "\n",
    "        self.occupancy.plot(fig.number)\n",
    "\n",
    "        solution_path = np.array(self.path) * self.resolution\n",
    "        plt.plot(solution_path[:,0],solution_path[:,1], color=\"green\", linewidth=2, label=\"solution path\", zorder=10)\n",
    "        plt.scatter([self.x_init[0]*self.resolution, self.x_goal[0]*self.resolution], \n",
    "                    [self.x_init[1]*self.resolution, self.x_goal[1]*self.resolution], color=\"green\", s=30, zorder=10)\n",
    "        plt.annotate(r\"$x_{init}$\", np.array(self.x_init)*self.resolution + np.array([.2, 0]), fontsize=16)\n",
    "        plt.annotate(r\"$x_{goal}$\", np.array(self.x_goal)*self.resolution + np.array([.2, 0]), fontsize=16)\n",
    "        plt.legend(loc='upper center', bbox_to_anchor=(0.5, -0.03), fancybox=True, ncol=3)\n",
    "\n",
    "        plt.axis('equal')\n",
    "        plt.show()\n",
    "\n",
    "    # Solves the planning problem using the A* search algorithm. It places\n",
    "    # the solution as a list of of tuples (each representing a state) that go\n",
    "    # from self.x_init to self.x_goal inside the variable self.path\n",
    "    # INPUT: None\n",
    "    # OUTPUT: Boolean, True if a solution from x_init to x_goal was found\n",
    "    def solve(self):\n",
    "        ########## Code starts here ##########\n",
    "        pass\n",
    "        ########## Code ends here ##########"
   ]
  },
  {
   "cell_type": "markdown",
   "metadata": {},
   "source": [
    "## Occupancy Grid"
   ]
  },
  {
   "cell_type": "code",
   "execution_count": 2,
   "metadata": {},
   "outputs": [],
   "source": [
    "# A 2D state space grid with a set of rectangular obstacles. The grid is fully deterministic\n",
    "class DetOccupancyGrid2D(object):\n",
    "    def __init__(self, width, height, obstacles):\n",
    "        self.width = width\n",
    "        self.height = height\n",
    "        self.obstacles = obstacles\n",
    "\n",
    "    def is_free(self, x):\n",
    "        ########## Code starts here ##########\n",
    "        pass\n",
    "        ########## Code ends here ##########\n",
    "\n",
    "    def plot(self, fig_num=0):\n",
    "        fig = plt.figure(fig_num)\n",
    "        for obs in self.obstacles:\n",
    "            ax = fig.add_subplot(111, aspect='equal')\n",
    "            ax.add_patch(\n",
    "            patches.Rectangle(\n",
    "            obs[0],\n",
    "            obs[1][0]-obs[0][0],\n",
    "            obs[1][1]-obs[0][1],))"
   ]
  },
  {
   "cell_type": "markdown",
   "metadata": {},
   "source": [
    "## Testing"
   ]
  },
  {
   "cell_type": "markdown",
   "metadata": {},
   "source": [
    "### A simple example"
   ]
  },
  {
   "cell_type": "code",
   "execution_count": 3,
   "metadata": {},
   "outputs": [
    {
     "name": "stdout",
     "output_type": "stream",
     "text": [
      "[((6, 6), (8, 7)), ((2, 1), (4, 2)), ((2, 4), (4, 6)), ((6, 2), (8, 4))]\n"
     ]
    },
    {
     "data": {
      "image/png": "[encoded data removed]",
      "text/plain": [
       "<Figure size 432x288 with 1 Axes>"
      ]
     },
     "metadata": {
      "needs_background": "light"
     },
     "output_type": "display_data"
    }
   ],
   "source": [
    "width = 10\n",
    "height = 10\n",
    "x_init = (0,0)\n",
    "x_goal = (8,8)\n",
    "obstacles = [((6,6),(8,7)),((2,1),(4,2)),((2,4),(4,6)),((6,2),(8,4))]\n",
    "print(obstacles)\n",
    "occupancy = DetOccupancyGrid2D(width, height, obstacles)\n",
    "\n",
    "astar = AStar((0, 0), (width, height), x_init, x_goal, occupancy)\n",
    "\n",
    "if not astar.solve():\n",
    "    print(\"No path found\")\n",
    "    exit(0)\n",
    "\n",
    "astar.plot_path()"
   ]
  },
  {
   "cell_type": "markdown",
   "metadata": {},
   "source": [
    "### A large random example"
   ]
  },
  {
   "cell_type": "code",
   "execution_count": 4,
   "metadata": {},
   "outputs": [
    {
     "data": {
      "image/png": "[encoded data removed]",
      "text/plain": [
       "<Figure size 432x288 with 1 Axes>"
      ]
     },
     "metadata": {
      "needs_background": "light"
     },
     "output_type": "display_data"
    }
   ],
   "source": [
    "width = 101\n",
    "height = 101\n",
    "num_obs = 15\n",
    "min_size = 5\n",
    "max_size = 25\n",
    "obs_corners_x = np.random.randint(0,width,num_obs)\n",
    "obs_corners_y = np.random.randint(0,height,num_obs)\n",
    "obs_lower_corners = np.vstack([obs_corners_x,obs_corners_y]).T\n",
    "obs_sizes = np.random.randint(min_size,max_size,(num_obs,2))\n",
    "obs_upper_corners = obs_lower_corners + obs_sizes\n",
    "obstacles = list(zip(obs_lower_corners,obs_upper_corners))\n",
    "occupancy = DetOccupancyGrid2D(width, height, obstacles)\n",
    "x_init = tuple(np.random.randint(0,width-2,2).tolist())\n",
    "x_goal = tuple(np.random.randint(0,height-2,2).tolist())\n",
    "while not (occupancy.is_free(x_init) and occupancy.is_free(x_goal)):\n",
    "    x_init = tuple(np.random.randint(0,width-2,2).tolist())\n",
    "    x_goal = tuple(np.random.randint(0,height-2,2).tolist())\n",
    "\n",
    "astar = AStar((0, 0), (width, height), x_init, x_goal, occupancy)\n",
    "\n",
    "if not astar.solve():\n",
    "    print(\"No path found\")\n",
    "    exit(0)\n",
    "\n",
    "astar.plot_path()"
   ]
  }
 ],
 "metadata": {
  "kernelspec": {
   "display_name": "Python 3",
   "language": "python",
   "name": "python3"
  },
  "language_info": {
   "codemirror_mode": {
    "name": "ipython",
    "version": 3
   },
   "file_extension": ".py",
   "mimetype": "text/x-python",
   "name": "python",
   "nbconvert_exporter": "python",
   "pygments_lexer": "ipython3",
   "version": "3.7.3"
  }
 },
 "nbformat": 4,
 "nbformat_minor": 1
}
