{
 "cells": [
  {
   "cell_type": "markdown",
   "metadata": {},
   "source": [
    "# Simple PID Controller Implementation in Python\n",
    "\n",
    "Most codes from http://asl.stanford.edu/aa274/"
   ]
  },
  {
   "cell_type": "markdown",
   "metadata": {},
   "source": [
    "## Initialization\n",
    "In this block the libraries are loaded and the constants will be set. \n",
    "\n",
    "You won't need to modify this but you are welcome to ask how it works!"
   ]
  },
  {
   "cell_type": "code",
   "execution_count": 1,
   "metadata": {
    "pycharm": {
     "is_executing": false
    }
   },
   "outputs": [],
   "source": [
    "import numpy as np\n",
    "import math\n",
    "from numpy import linalg\n",
    "from scipy.integrate import cumtrapz\n",
    "from scipy.integrate import odeint\n",
    "import matplotlib.pyplot as plt\n",
    "from utils import *\n",
    "\n",
    "# Constants\n",
    "tf = 15\n",
    "V_max = 0.5\n",
    "om_max = 1\n",
    "\n",
    "# time\n",
    "dt = 0.005\n",
    "N = int(tf/dt)\n",
    "t = dt*np.array(range(N+1)) \n",
    "\n",
    "# Initial conditions\n",
    "x_0 = 0\n",
    "y_0 = 0\n",
    "V_0 = V_max\n",
    "th_0 = -np.pi/2\n",
    "xd_0 = V_0*np.cos(th_0)\n",
    "yd_0 = V_0*np.sin(th_0)\n",
    "\n",
    "# Final conditions\n",
    "x_f = 5\n",
    "y_f = 5\n",
    "V_f = V_max\n",
    "th_f = -np.pi/2\n",
    "xd_f = V_f*np.cos(th_f)\n",
    "yd_f = V_f*np.sin(th_f)"
   ]
  },
  {
   "cell_type": "markdown",
   "metadata": {},
   "source": [
    "## Generating data\n",
    "In this block we generate the trajectories that we want to follow. \n",
    "\n",
    "You won't need to modify this but you are welcome to ask how it works!"
   ]
  },
  {
   "cell_type": "code",
   "execution_count": 2,
   "metadata": {
    "pycharm": {}
   },
   "outputs": [
    {
     "name": "stderr",
     "output_type": "stream",
     "text": [
      "/Users/mottaghi/PycharmProjects/AI4ALL_robatics/utils.py:165: RuntimeWarning: divide by zero encountered in true_divide\n",
      "  V_tilde = np.minimum(np.minimum(abs(V), V_max), om_max*abs(V/om))*np.sign(V)\n"
     ]
    },
    {
     "data": {
      "image/png": "[encoded data removed]",
      "text/plain": [
       "<Figure size 1080x504 with 1 Axes>"
      ]
     },
     "metadata": {
      "needs_background": "light"
     },
     "output_type": "display_data"
    }
   ],
   "source": [
    "traj, V, om = differential_flatness_trajectory()\n",
    "s = compute_arc_length(V, t)\n",
    "V_tilde = rescale_V(V, om)\n",
    "tau = compute_tau(V_tilde, s)\n",
    "om_tilde = rescale_om(V, om, V_tilde)\n",
    "\n",
    "# Get new final time\n",
    "tf_new = tau[-1]\n",
    "\n",
    "# Generate new uniform time grid\n",
    "N_new = int(tf_new/dt)\n",
    "t_new = dt*np.array(range(N_new+1))\n",
    "t_new = t_new.T\n",
    "\n",
    "# Interpolate for state trajectory\n",
    "data_scaled = np.zeros((N_new+1,7))\n",
    "data_scaled[:,0] = np.interp(t_new,tau,traj[:,0]) # x\n",
    "data_scaled[:,1] = np.interp(t_new,tau,traj[:,1]) # y\n",
    "data_scaled[:,2] = np.interp(t_new,tau,traj[:,2]) # th\n",
    "# Interpolate for scaled velocities\n",
    "V_scaled = np.interp(t_new, tau, V_tilde)                # V\n",
    "om_scaled = np.interp(t_new, tau, om_tilde)              # om\n",
    "# Compute xy velocities\n",
    "data_scaled[:,3] = V_scaled*np.cos(data_scaled[:,2]) # xd\n",
    "data_scaled[:,4] = V_scaled*np.sin(data_scaled[:,2]) # yd\n",
    "# Compute xy acclerations\n",
    "data_scaled[:,5] = np.append(np.diff(data_scaled[:,3])/dt,-V_f*om_scaled[-1]*np.sin(th_f)) # xdd\n",
    "data_scaled[:,6] = np.append(np.diff(data_scaled[:,4])/dt, V_f*om_scaled[-1]*np.cos(th_f)) # ydd\n",
    "\n",
    "# Save trajectory data\n",
    "data = {'z': data_scaled, 'V': V_scaled, 'om': om_scaled}\n",
    "save_dict(data, \"data/differential_flatness.pkl\")\n",
    "maybe_makedirs('plots')\n",
    "\n",
    "# Plots\n",
    "plt.figure(figsize=(15, 7))\n",
    "# plt.subplot(2, 2, 1)\n",
    "plt.plot(data_scaled[:,0], data_scaled[:,1], 'k-',linewidth=2)\n",
    "plt.grid('on')\n",
    "plt.plot(x_0, y_0, 'go', markerfacecolor='green', markersize=15)\n",
    "plt.plot(x_f, y_f, 'ro', markerfacecolor='red', markersize=15)\n",
    "plt.xlabel('X')\n",
    "plt.ylabel('Y')\n",
    "plt.title(\"Path (position)\")\n",
    "plt.axis([-1, 6, -1, 6])\n",
    "\n",
    "# plt.tight_layout()\n",
    "plt.savefig(\"plots/differential_flatness.png\")\n",
    "plt.show()"
   ]
  },
  {
   "cell_type": "markdown",
   "metadata": {},
   "source": [
    "## Pose controller\n",
    "Here you should implement a simple PID controller for controlling the pose."
   ]
  },
  {
   "cell_type": "code",
   "execution_count": 3,
   "metadata": {
    "pycharm": {}
   },
   "outputs": [],
   "source": [
    "def ctrl_pose(x, y, th, xg, yg, thg):\n",
    "    '''\n",
    "    This function implements the pose stabilization controller.\n",
    "    Inputs:\n",
    "        x, y, th: the current pose of the robot\n",
    "        xg, yg, thg: the desired pose of the robot\n",
    "    Outputs:\n",
    "        ctrl: a numpy array np.array([V, om]) containing the desired control inputs\n",
    "\n",
    "    HINT: you need to use the wrapToPi function\n",
    "    HINT: don't forget to saturate your control inputs\n",
    "    '''\n",
    "\n",
    "    #Code pose controller\n",
    "    rel_coords = np.array([x-xg, y-yg])\n",
    "    R = np.array([[np.cos(thg), np.sin(thg)], [-np.sin(thg), np.cos(thg)]])\n",
    "    rel_coords_rot = np.dot(R,rel_coords)\n",
    "    th_rot = th-thg\n",
    "\n",
    "    # Define the new state variables\n",
    "    rho = np.linalg.norm(rel_coords)\n",
    "    ang = np.arctan2(rel_coords_rot[1],rel_coords_rot[0])+np.pi\n",
    "    angs = wrapToPi(np.array([ang-th_rot, ang]))\n",
    "    alpha = angs[0]\n",
    "    delta = angs[1]\n",
    "    \n",
    "    ########## Code starts here ##########\n",
    "\n",
    "    \n",
    "    ########## Code ends here ##########\n",
    "    \n",
    "    # Apply saturation limits\n",
    "    V = np.sign(V)*min(0.5, np.abs(V))\n",
    "    om = np.sign(om)*min(1, np.abs(om))\n",
    "    \n",
    "    ctrl = [V, om]\n",
    "\n",
    "    return np.array(ctrl)"
   ]
  },
  {
   "cell_type": "markdown",
   "metadata": {},
   "source": [
    "## Plot the results\n",
    "\n",
    "In this block we plot the outputs of the PID controller.\n",
    "\n",
    "You won't need to modify this but you are welcome to ask how it works!"
   ]
  },
  {
   "cell_type": "code",
   "execution_count": 4,
   "metadata": {
    "pycharm": {}
   },
   "outputs": [
    {
     "name": "stdout",
     "output_type": "stream",
     "text": [
      "(x_0, y_0, th_0) = (5.00, 3.00, 0.00)\n",
      "t_f = 20.00\n"
     ]
    },
    {
     "data": {
      "image/png": "[encoded data removed]",
      "text/plain": [
       "<Figure size 1080x360 with 1 Axes>"
      ]
     },
     "metadata": {
      "needs_background": "light"
     },
     "output_type": "display_data"
    }
   ],
   "source": [
    "parking = \"forward\"\n",
    "x_0 = 5\n",
    "y_0 = 3\n",
    "th_0 = 0\n",
    "t_end = 20\n",
    "\n",
    "print('(x_0, y_0, th_0) = (%.2f, %.2f, %.2f)' %(x_0, y_0, th_0))\n",
    "print('t_f = %.2f' %t_end)\n",
    "\n",
    "# desired end pose\n",
    "x_g = 5\n",
    "y_g = 5\n",
    "th_g = -np.pi/2\n",
    "\n",
    "#timestep\n",
    "dt = 0.005\n",
    "N = int (t_end/dt)\n",
    "\n",
    "# Set up simulation\n",
    "\n",
    "time = dt * np.array(range(N+1)) \n",
    "state = np.zeros((N+1,3))\n",
    "state[0,:] = np.array([[x_0, y_0, th_0]])\n",
    "x = state[0,:]\n",
    "\n",
    "ctrl = np.zeros((N,2))\n",
    "\n",
    "for i in range(N): \n",
    "    ctrl_fbck = ctrl_pose(x[0], x[1], x[2], x_g, y_g, th_g)\n",
    "    ctrl[i,0] = ctrl_fbck[0]\n",
    "    ctrl[i,1] = ctrl_fbck[1]\n",
    "\n",
    "    d_state = odeint(car_dyn, x, np.array([time[i], time[i+1]]), args=(ctrl[i,:], [0,0]) )\n",
    "    x = d_state[1,:]\n",
    "    state[i+1,:] = x\n",
    "\n",
    "# Plots\n",
    "maybe_makedirs('plots')\n",
    "plt.figure(figsize=(15,5))\n",
    "plt.plot(state[:,0],state[:,1],linewidth=1)\n",
    "plt.title('Trajectory')\n",
    "plt.quiver(state[0:-1:200,0],state[0:-1:200,1],np.cos(state[0:-1:200,2]), np.sin(state[0:-1:200,2]))\n",
    "plt.grid('on')\n",
    "plt.plot(x_0,y_0,'go',markerfacecolor='green',markersize=15)\n",
    "plt.plot(x_g,y_g,'ro',markerfacecolor='red', markersize=15)\n",
    "plt.xlabel('X')\n",
    "plt.ylabel('Y')\n",
    "plt.axis([3,8,2,6])\n",
    "plt.tight_layout()\n",
    "plt.savefig(\"plots/\" + parking + \"_parking.png\")\n",
    "plt.show()\n"
   ]
  },
  {
   "cell_type": "markdown",
   "metadata": {},
   "source": [
    "## Closed-loop controler\n",
    "\n",
    "Here you should implement a simple PID controller for following a trajectory."
   ]
  },
  {
   "cell_type": "code",
   "execution_count": 5,
   "metadata": {
    "pycharm": {}
   },
   "outputs": [],
   "source": [
    "def ctrl_traj(x, y, th,\n",
    "              ctrl_prev,\n",
    "              x_d, y_d,\n",
    "              xd_d, yd_d,\n",
    "              xdd_d, ydd_d,\n",
    "              x_g, y_g, th_g):\n",
    "    '''\n",
    "    This function computes the closed-loop control law.\n",
    "    Inputs:\n",
    "        (x,y,th): current state\n",
    "        ctrl_prev: previous control input (V,om)\n",
    "        (x_d, y_d): desired position\n",
    "        (xd_d, yd_d): desired velocity\n",
    "        (xdd_d, ydd_d): desired acceleration\n",
    "        (x_g,y_g,th_g): desired final state\n",
    "    Outputs:\n",
    "        (V, om): a numpy array np.array([V, om]) containing the desired control inputs\n",
    "    '''\n",
    "\n",
    "    # Timestep\n",
    "    dt = 0.005\n",
    "    \n",
    "    ########## Code starts here ##########\n",
    "    \n",
    "\n",
    "    ########## Code ends here ##########\n",
    "    \n",
    "    # Apply saturation limits\n",
    "    V = np.sign(V)*min(0.5, np.abs(V))\n",
    "    om = np.sign(om)*min(1, np.abs(om))\n",
    "\n",
    "    return np.array([V, om])"
   ]
  },
  {
   "cell_type": "markdown",
   "metadata": {},
   "source": [
    "## Plot the results\n",
    "In this block we plot the outputs of the PID controller.\n",
    "\n",
    "You won't need to modify this but you are welcome to ask how it works!"
   ]
  },
  {
   "cell_type": "code",
   "execution_count": 6,
   "metadata": {
    "pycharm": {}
   },
   "outputs": [
    {
     "name": "stdout",
     "output_type": "stream",
     "text": [
      "filename: data/differential_flatness.pkl\n",
      "(x_0, y_0, th_0) = (0.00, 0.00, -1.57)\n",
      "Noise: 10\n",
      "Control: closed\n"
     ]
    },
    {
     "data": {
      "image/png": "[encoded data removed]",
      "text/plain": [
       "<Figure size 864x288 with 1 Axes>"
      ]
     },
     "metadata": {
      "needs_background": "light"
     },
     "output_type": "display_data"
    }
   ],
   "source": [
    "# unpack argv\n",
    "# script_name, filename, x_0, y_0, th_0, dist, ctrl = argv\n",
    "x_0 = 0\n",
    "y_0 = 0\n",
    "th_0 = -1.57\n",
    "dist = 10\n",
    "ctrl = 'closed'\n",
    "data = 'differential_flatness'\n",
    "filename = 'data/' + data + '.pkl'\n",
    "\n",
    "model_name = 'sim_traj_' + data + '_' + str(dist) + '_' + ctrl\n",
    "\n",
    "print('filename: %s' % filename)\n",
    "print('(x_0, y_0, th_0) = (%.2f, %.2f, %.2f)' %(x_0, y_0, th_0))\n",
    "print('Noise: %i' %dist)\n",
    "print('Control: %s' %ctrl)\n",
    "\n",
    "data_dict = load_dict(filename)\n",
    "data = data_dict['z']\n",
    "V = data_dict['V']\n",
    "om = data_dict['om']\n",
    "\n",
    "x_g = data[-1,0]\n",
    "y_g = data[-1,1]\n",
    "th_g = data[-1,2]\n",
    "\n",
    "N = [len(data)-1]\n",
    "dt = 0.005\n",
    "t_end = N[0]*dt\n",
    "\n",
    "noise = np.zeros((N[0]+1,2))\n",
    "w_noise = 0\n",
    "n_runs = 1\n",
    "feedback = False\n",
    "\n",
    "if dist or ctrl == 'closed': n_runs = 2\n",
    "\n",
    "if dist: w_noise = dist\n",
    "\n",
    "if ctrl == 'closed': feedback = True\n",
    "\n",
    "# Setup Simulation\n",
    "time = [dt * np.array(range(N[0] + 1))] \n",
    "state = [np.zeros((N[0] + 1, 3))]\n",
    "state[0][0,:] = data[0, 0:3]\n",
    "ctrl = [np.zeros((N[0], 2))]\n",
    "if n_runs == 2:\n",
    "    if feedback: t_end_2 = 1.2 * t_end\n",
    "    else: t_end_2 = t_end\n",
    "    N.append(int(t_end_2/dt))\n",
    "    time.append(dt * np.array(range(N[1] + 1)))\n",
    "\n",
    "    state.append(np.zeros((N[1] + 1,3)))\n",
    "    state[1][0,:] = np.array([[x_0, y_0, th_0]])\n",
    "    ctrl.append(np.zeros((N[1], 2)))\n",
    "\n",
    "# Simulate\n",
    "for n in range(n_runs):\n",
    "    x = state[n][0,:]\n",
    "    ctrl_prev = np.array([V[0], om[0]])\n",
    "\n",
    "    if n == 1:\n",
    "        noise = w_noise*np.vstack([np.sqrt(0.1)*np.random.randn(N[1]), np.sqrt(0.1)*np.random.randn(N[1])])\n",
    "        noise = noise.T\n",
    "\n",
    "    for i in range(N[n]): #t[0]...t[N-1]\n",
    "        idx = N[0] if (n==1) and (i >= N[0]) else i\n",
    "        # if (n==1) and (i >= N[0]): idx = N[0]\n",
    "        # else: idx = i\n",
    "\n",
    "        if n == 0:\n",
    "            #Open-loop\n",
    "            ctrl[n][i,:] = np.array([V[i], om[i]])\n",
    "\n",
    "        elif (n == 1) and (feedback==False):\n",
    "            #Open-loop\n",
    "            ctrl[n][i,:] = np.array([V[i], om[i]])\n",
    "        else:\n",
    "            #Closed-loop\n",
    "            ctrl_fbck = ctrl_traj(x[0], x[1], x[2], \n",
    "                                 ctrl_prev, \n",
    "                                 data[idx,0], data[idx,1], \n",
    "                                 data[idx,3], data[idx,4],\n",
    "                                 data[idx,5], data[idx,6],\n",
    "                                 x_g, y_g, th_g)\n",
    "            ctrl[n][i,:] = ctrl_fbck\n",
    "            ctrl_prev = ctrl[n][i,:]\n",
    "\n",
    "        d_state = odeint(car_dyn, x, np.array([time[n][i], time[n][i+1]]), args=(ctrl[n][i,:], noise[i,:]))\n",
    "        x = d_state[1,:]\n",
    "        state[n][i+1,:] = x\n",
    "\n",
    "# Plots\n",
    "maybe_makedirs('plots')\n",
    "plt.figure(figsize=(12,4))\n",
    "\n",
    "for n in range(n_runs):\n",
    "    plt.plot(state[n][:,0],state[n][:,1],linewidth=2)\n",
    "\n",
    "if (n_runs == 2) and dist:\n",
    "    plt.legend(['Without noise', 'With noise'], loc=\"best\")\n",
    "elif (n_runs == 2) and ~dist:\n",
    "    plt.legend(['Open-loop', 'Closed-loop'], loc=\"best\")\n",
    "\n",
    "plt.grid('on')\n",
    "plt.plot(x_0, y_0, 'go', markerfacecolor='green', markersize=15)\n",
    "plt.plot(x_g, y_g, 'ro', markerfacecolor='red', markersize=15)\n",
    "plt.xlabel('X')\n",
    "plt.ylabel('Y')\n",
    "plt.axis([-1, 6, -1, 6])\n",
    "plt.title('Path')\n",
    "plt.savefig('plots/' + model_name + '.png')\n",
    "plt.show()"
   ]
  },
  {
   "cell_type": "code",
   "execution_count": null,
   "metadata": {
    "pycharm": {}
   },
   "outputs": [],
   "source": []
  }
 ],
 "metadata": {
  "kernelspec": {
   "display_name": "Python 3",
   "language": "python",
   "name": "python3"
  },
  "language_info": {
   "codemirror_mode": {
    "name": "ipython",
    "version": 3
   },
   "file_extension": ".py",
   "mimetype": "text/x-python",
   "name": "python",
   "nbconvert_exporter": "python",
   "pygments_lexer": "ipython3",
   "version": "3.7.0"
  }
 },
 "nbformat": 4,
 "nbformat_minor": 1
}
